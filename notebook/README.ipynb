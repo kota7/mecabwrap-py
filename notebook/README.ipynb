{
 "cells": [
  {
   "cell_type": "markdown",
   "metadata": {},
   "source": [
    "# mecabwrap\n",
    "\n",
    "**mecabwrap** is yet another wrapper for [MeCab Morphological Analyzer](http://taku910.github.io/mecab/).\n",
    "\n",
    "It is intended to be used seamlessly on Unix and Windows machine."
   ]
  },
  {
   "cell_type": "markdown",
   "metadata": {},
   "source": [
    "## A Simple Tokenizer\n",
    "\n",
    "The `tokenize` function provides a high level API for splitting a text into tokens.\n",
    "It returns a generator of tokens."
   ]
  },
  {
   "cell_type": "code",
   "execution_count": 2,
   "metadata": {},
   "outputs": [
    {
     "name": "stdout",
     "output_type": "stream",
     "text": [
      "すもも\t名詞,一般,*,*,*,すもも,スモモ,スモモ\n",
      "も\t助詞,係助詞,*,*,*,も,モ,モ\n",
      "もも\t名詞,一般,*,*,*,もも,モモ,モモ\n",
      "も\t助詞,係助詞,*,*,*,も,モ,モ\n",
      "もも\t名詞,一般,*,*,*,もも,モモ,モモ\n",
      "の\t助詞,連体化,*,*,*,の,ノ,ノ\n",
      "うち\t名詞,非自立,副詞可能,*,*,うち,ウチ,ウチ\n"
     ]
    }
   ],
   "source": [
    "from mecabwrap import tokenize\n",
    "\n",
    "for token in tokenize('すもももももももものうち'):\n",
    "    print(token)"
   ]
  },
  {
   "cell_type": "markdown",
   "metadata": {},
   "source": [
    "## Multiple Inputs\n",
    "\n",
    "With more than on text inputs, `do_mecab_iter` function returns a generator of MeCab results.\n",
    "When `byline=True`, each chunk is a line, which corresponds to a token in the default setting.\n",
    "When `byline=False`, each chunk is a document, where a document is assumed to terminate with `'EOS'.`"
   ]
  },
  {
   "cell_type": "code",
   "execution_count": 21,
   "metadata": {},
   "outputs": [
    {
     "name": "stdout",
     "output_type": "stream",
     "text": [
      "---(1)\n",
      "春\t名詞,一般,*,*,*,*,春,ハル,ハル\n",
      "は\t助詞,係助詞,*,*,*,*,は,ハ,ワ\n",
      "あけぼの\t名詞,固有名詞,地域,一般,*,*,あけぼの,アケボノ,アケボノ\n",
      "EOS\n",
      "---(2)\n",
      "やうやう\t副詞,一般,*,*,*,*,やうやう,ヤウヤウ,ヨーヨー\n",
      "白く\t形容詞,自立,*,*,形容詞・アウオ段,連用テ接続,白い,シロク,シロク\n",
      "なり\t動詞,自立,*,*,五段・ラ行,連用形,なる,ナリ,ナリ\n",
      "ゆく\t動詞,非自立,*,*,五段・カ行促音便ユク,基本形,ゆく,ユク,ユク\n",
      "山際\t名詞,一般,*,*,*,*,山際,ヤマギワ,ヤマギワ\n",
      "EOS\n",
      "---(3)\n",
      "少し\t副詞,助詞類接続,*,*,*,*,少し,スコシ,スコシ\n",
      "明かり\t名詞,一般,*,*,*,*,明かり,アカリ,アカリ\n",
      "て\t助詞,格助詞,連語,*,*,*,て,テ,テ\n",
      "EOS\n",
      "---(4)\n",
      "紫\t名詞,一般,*,*,*,*,紫,ムラサキ,ムラサキ\n",
      "だ\t助動詞,*,*,*,特殊・ダ,基本形,だ,ダ,ダ\n",
      "ち\t動詞,自立,*,*,五段・ラ行,体言接続特殊２,ちる,チ,チ\n",
      "たる\t助動詞,*,*,*,文語・ナリ,体言接続,たり,タル,タル\n",
      "雲\t名詞,一般,*,*,*,*,雲,クモ,クモ\n",
      "の\t助詞,連体化,*,*,*,*,の,ノ,ノ\n",
      "細く\t形容詞,自立,*,*,形容詞・アウオ段,連用テ接続,細い,ホソク,ホソク\n",
      "たなびき\t動詞,自立,*,*,五段・カ行イ音便,連用形,たなびく,タナビキ,タナビキ\n",
      "たる\t助動詞,*,*,*,文語・ナリ,体言接続,たり,タル,タル\n",
      "EOS\n"
     ]
    }
   ],
   "source": [
    "from mecabwrap import do_mecab_iter\n",
    "\n",
    "ins = ['春はあけぼの', 'やうやう白くなりゆく山際', '少し明かりて', '紫だちたる雲の細くたなびきたる']\n",
    "\n",
    "i = 0\n",
    "for text in do_mecab_iter(ins, byline=False):\n",
    "    i += 1\n",
    "    print('---(' + str(i) + ')\\n' + text)"
   ]
  },
  {
   "cell_type": "markdown",
   "metadata": {},
   "source": [
    "## Using MeCab Options\n",
    "\n",
    "The `do_` functions supports options of MeCab.  For example, following code invokes the *wakati* option, so the outcome be words separated by spaces with no meta information. \n",
    "Note that `byline` is set to `False`, since with the *wakati* option each line represents a text and `\"EOS\"` marker is not used."
   ]
  },
  {
   "cell_type": "code",
   "execution_count": 17,
   "metadata": {},
   "outputs": [
    {
     "name": "stdout",
     "output_type": "stream",
     "text": [
      "春 は あけぼの\n",
      "やうやう 白く なり ゆく 山際\n",
      "少し 明かり て\n",
      "紫 だ ち たる 雲 の 細く たなびき たる\n"
     ]
    }
   ],
   "source": [
    "ins = ['春はあけぼの', 'やうやう白くなりゆく山際', '少し明かりて', '紫だちたる雲の細くたなびきたる']\n",
    "\n",
    "for text in do_mecab_iter(ins, '-Owakati', byline=True):\n",
    "    print(text)"
   ]
  },
  {
   "cell_type": "markdown",
   "metadata": {},
   "source": [
    "More complex output formatting is allowed with `-F` option.  \n",
    "See [the official site](http://taku910.github.io/mecab/format.html) for more details."
   ]
  },
  {
   "cell_type": "code",
   "execution_count": 28,
   "metadata": {},
   "outputs": [
    {
     "name": "stdout",
     "output_type": "stream",
     "text": [
      "春(一般) | は(係助詞) | あけぼの(固有名詞) | EOS\n",
      "やうやう(一般) | 白い(自立) | なる(自立) | ゆく(非自立) | 山際(一般) | EOS\n",
      "少し(助詞類接続) | 明かり(一般) | て(格助詞) | EOS\n",
      "紫(一般) | だ() | ちる(自立) | たり() | 雲(一般) | の(連体化) | 細い(自立) | たなびく(自立) | たり() | EOS\n"
     ]
    }
   ],
   "source": [
    "ins = ['春はあけぼの', 'やうやう白くなりゆく山際', '少し明かりて', '紫だちたる雲の細くたなびきたる']\n",
    "\n",
    "for text in do_mecab_iter(ins, '-F%f[6](%f[1]) | ', byline=True):\n",
    "    print(text)"
   ]
  },
  {
   "cell_type": "markdown",
   "metadata": {},
   "source": [
    "### Note\n",
    "\n",
    "- `-o` option (output file) does not work with `do_mecab_iter`.\n",
    "- To write the outcome directly to a file, use `do_mecab` or `do_mecab_vec` with `outpath` argument."
   ]
  },
  {
   "cell_type": "markdown",
   "metadata": {},
   "source": [
    "\n"
   ]
  }
 ],
 "metadata": {
  "kernelspec": {
   "display_name": "Python 3",
   "language": "python",
   "name": "python3"
  },
  "language_info": {
   "codemirror_mode": {
    "name": "ipython",
    "version": 3
   },
   "file_extension": ".py",
   "mimetype": "text/x-python",
   "name": "python",
   "nbconvert_exporter": "python",
   "pygments_lexer": "ipython3",
   "version": "3.5.4"
  }
 },
 "nbformat": 4,
 "nbformat_minor": 2
}
