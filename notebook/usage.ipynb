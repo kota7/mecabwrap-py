{
 "cells": [
  {
   "cell_type": "markdown",
   "metadata": {},
   "source": [
    "# mecabwrap\n",
    "\n",
    "\n",
    "**mecabwrap** is yet another Python interface to [MeCab Morphological Analyzer](http://taku910.github.io/mecab/).\n",
    "\n",
    "It is designed to work seamlessly on Unix and Windows machine.\n",
    "\n",
    "\n",
    "## Requirement\n",
    "\n",
    "- Python 2.6+ or 3.4+\n",
    "- MeCab 0.996\n",
    "\n",
    "\n",
    "## Installation\n",
    "\n",
    "\n",
    "### 1. Install MeCab\n",
    "\n",
    "**Ubuntu**\n",
    "\n",
    "```bash\n",
    "$ sudo apt-get install mecab libmecab-dev mecab-ipadic-utf8\n",
    "```\n",
    "\n",
    "**Mac OSX**\n",
    "\n",
    "```bash\n",
    "$ sudo apt-get install mecab libmecab-dev mecab-ipadic-utf8\n",
    "```\n",
    "\n",
    "**Windows**\n",
    "\n",
    "Download and run the [installer](https://drive.google.com/uc?export=download&id=0B4y35FiV1wh7WElGUGt6ejlpVXc).\n",
    "\n",
    "See also: [official website](http://taku910.github.io/mecab/#install) \n",
    "\n",
    "\n",
    "\n",
    "### 2. Install this Package\n",
    "\n",
    "```bash\n",
    "$ git clone --depth 1 https://github.com/kota7/mecabwrap-py.git\n",
    "$ cd mecabwrap-py\n",
    "$ pip install .U\n",
    "```\n",
    "\n",
    "\n",
    "## Quick Check\n",
    "\n",
    "\n",
    "Verify that the MeCab has been sucessfully installed by:\n",
    "\n",
    "```bash\n",
    "$ mecab -v\n",
    "# should result in `mecab of 0.996` or similar.\n",
    "```\n",
    "\n",
    "Otherwise, you do not have MeCab installed successfully or MeCab is not on the search path.\n",
    "\n",
    "\n",
    "```bash\n",
    "$ echo すもももももももものうち | mecab\n",
    "# すもも\t名詞,一般,*,*,*,*,すもも,スモモ,スモモ\n",
    "# も\t助詞,係助詞,*,*,*,*,も,モ,モ\n",
    "# もも\t名詞,一般,*,*,*,*,もも,モモ,モモ\n",
    "# も\t助詞,係助詞,*,*,*,*,も,モ,モ\n",
    "# もも\t名詞,一般,*,*,*,*,もも,モモ,モモ\n",
    "# の\t助詞,連体化,*,*,*,*,の,ノ,ノ\n",
    "# うち\t名詞,非自立,副詞可能,*,*,*,うち,ウチ,ウチ\n",
    "```\n",
    "\n",
    "\n",
    "To verify that the package if success fully installed,\n",
    "\n",
    "```bash\n",
    "$ python\n",
    "```\n",
    "\n",
    "```python\n",
    ">>> from mecabwrap import tokenize\n",
    ">>> for token in tokenize(u\"すもももももももものうち\"): \n",
    "...     print(token)\n",
    "... \n",
    "すもも\t名詞,*,*,*,*,すもも,スモモ,スモモ\n",
    "も\t助詞,*,*,*,*,も,モ,モ\n",
    "もも\t名詞,*,*,*,*,もも,モモ,モモ\n",
    "も\t助詞,*,*,*,*,も,モ,モ\n",
    "もも\t名詞,*,*,*,*,もも,モモ,モモ\n",
    "の\t助詞,*,*,*,*,の,ノ,ノ\n",
    "うち\t名詞,*,*,*,*,うち,ウチ,ウチ\n",
    "```\n",
    "\n"
   ]
  },
  {
   "cell_type": "markdown",
   "metadata": {},
   "source": [
    "## Usage\n",
    "\n",
    "\n",
    "### A Simple Tokenizer\n",
    "\n",
    "The `tokenize` function is a high level API for splitting a text into tokens.\n",
    "It returns a generator of tokens."
   ]
  },
  {
   "cell_type": "code",
   "execution_count": 1,
   "metadata": {},
   "outputs": [
    {
     "name": "stdout",
     "output_type": "stream",
     "text": [
      "すもも\t名詞,*,*,*,*,すもも,スモモ,スモモ\n",
      "も\t助詞,*,*,*,*,も,モ,モ\n",
      "もも\t名詞,*,*,*,*,もも,モモ,モモ\n",
      "も\t助詞,*,*,*,*,も,モ,モ\n",
      "もも\t名詞,*,*,*,*,もも,モモ,モモ\n",
      "の\t助詞,*,*,*,*,の,ノ,ノ\n",
      "うち\t名詞,*,*,*,*,うち,ウチ,ウチ\n"
     ]
    }
   ],
   "source": [
    "from mecabwrap import tokenize\n",
    "\n",
    "for token in tokenize('すもももももももものうち'):\n",
    "    print(token)"
   ]
  },
  {
   "cell_type": "markdown",
   "metadata": {},
   "source": [
    "### Using MeCab Options\n",
    "\n",
    "To configure the MeCab calls, one may use `do_` functions that support arbitrary number of MeCab options.  \n",
    "Currently, the following three `do_` functions are provided.\n",
    "- `do_mecab`: works with a single input text.\n",
    "- `do_mecab_vec`: works with a multiple input texts.\n",
    "- `do_mecab_iter`: works with a multiple input texts and returns a generator.\n",
    "\n",
    "For example, following code invokes the *wakati* option, so the outcome be words separated by spaces with no meta information. \n",
    "See [the official site](http://taku910.github.io/mecab/format.html) for more details."
   ]
  },
  {
   "cell_type": "code",
   "execution_count": 2,
   "metadata": {},
   "outputs": [
    {
     "name": "stdout",
     "output_type": "stream",
     "text": [
      "人生 楽 ありゃ 苦 も ある さ \n",
      "\n"
     ]
    }
   ],
   "source": [
    "from mecabwrap import do_mecab\n",
    "out = do_mecab('人生楽ありゃ苦もあるさ', '-Owakati')\n",
    "print(out)"
   ]
  },
  {
   "cell_type": "markdown",
   "metadata": {},
   "source": [
    "The exapmle below uses `do_mecab_vec` to parse multiple texts.\n",
    "Note that `-F` option configures the outcome formatting.\n"
   ]
  },
  {
   "cell_type": "code",
   "execution_count": 3,
   "metadata": {},
   "outputs": [
    {
     "name": "stdout",
     "output_type": "stream",
     "text": [
      "春(一般) | は(係助詞) | あけぼの(固有名詞) | EOS\n",
      "やうやう(一般) | 白い(自立) | なる(自立) | ゆく(非自立) | 山際(一般) | EOS\n",
      "少し(助詞類接続) | 明かり(一般) | て(格助詞) | EOS\n",
      "紫(一般) | だ() | ちる(自立) | たり() | 雲(一般) | の(連体化) | 細い(自立) | たなびく(自立) | たり() | EOS\n",
      "\n"
     ]
    }
   ],
   "source": [
    "from mecabwrap import do_mecab_vec\n",
    "ins = ['春はあけぼの', 'やうやう白くなりゆく山際', '少し明かりて', '紫だちたる雲の細くたなびきたる']\n",
    "\n",
    "out = do_mecab_vec(ins, '-F%f[6](%f[1]) | ')\n",
    "print(out)"
   ]
  },
  {
   "cell_type": "markdown",
   "metadata": {},
   "source": [
    "### Returning Iterators\n",
    "\n",
    "When the number of input text is large, then holding the outcomes in the memory may not be a good idea.  `do_mecab_iter` function, which works for multiple texts, returns a generator of MeCab results.\n",
    "When `byline=True`, each chunk is a line, which corresponds to a token in the default setting.\n",
    "When `byline=False`, each chunk is a document, where a document is assumed to terminate with `'EOS'.`"
   ]
  },
  {
   "cell_type": "code",
   "execution_count": 4,
   "metadata": {},
   "outputs": [
    {
     "name": "stdout",
     "output_type": "stream",
     "text": [
      "---(1)\n",
      "春\t名詞,一般,*,*,*,*,春,ハル,ハル\n",
      "は\t助詞,係助詞,*,*,*,*,は,ハ,ワ\n",
      "あけぼの\t名詞,固有名詞,地域,一般,*,*,あけぼの,アケボノ,アケボノ\n",
      "EOS\n",
      "---(2)\n",
      "やうやう\t副詞,一般,*,*,*,*,やうやう,ヤウヤウ,ヨーヨー\n",
      "白く\t形容詞,自立,*,*,形容詞・アウオ段,連用テ接続,白い,シロク,シロク\n",
      "なり\t動詞,自立,*,*,五段・ラ行,連用形,なる,ナリ,ナリ\n",
      "ゆく\t動詞,非自立,*,*,五段・カ行促音便ユク,基本形,ゆく,ユク,ユク\n",
      "山際\t名詞,一般,*,*,*,*,山際,ヤマギワ,ヤマギワ\n",
      "EOS\n",
      "---(3)\n",
      "少し\t副詞,助詞類接続,*,*,*,*,少し,スコシ,スコシ\n",
      "明かり\t名詞,一般,*,*,*,*,明かり,アカリ,アカリ\n",
      "て\t助詞,格助詞,連語,*,*,*,て,テ,テ\n",
      "EOS\n",
      "---(4)\n",
      "紫\t名詞,一般,*,*,*,*,紫,ムラサキ,ムラサキ\n",
      "だ\t助動詞,*,*,*,特殊・ダ,基本形,だ,ダ,ダ\n",
      "ち\t動詞,自立,*,*,五段・ラ行,体言接続特殊２,ちる,チ,チ\n",
      "たる\t助動詞,*,*,*,文語・ナリ,体言接続,たり,タル,タル\n",
      "雲\t名詞,一般,*,*,*,*,雲,クモ,クモ\n",
      "の\t助詞,連体化,*,*,*,*,の,ノ,ノ\n",
      "細く\t形容詞,自立,*,*,形容詞・アウオ段,連用テ接続,細い,ホソク,ホソク\n",
      "たなびき\t動詞,自立,*,*,五段・カ行イ音便,連用形,たなびく,タナビキ,タナビキ\n",
      "たる\t助動詞,*,*,*,文語・ナリ,体言接続,たり,タル,タル\n",
      "EOS\n"
     ]
    }
   ],
   "source": [
    "from mecabwrap import do_mecab_iter\n",
    "\n",
    "ins = ['春はあけぼの', 'やうやう白くなりゆく山際', '少し明かりて', '紫だちたる雲の細くたなびきたる']\n",
    "\n",
    "i = 0\n",
    "for text in do_mecab_iter(ins, byline=False):\n",
    "    i += 1\n",
    "    print('---(' + str(i) + ')\\n' + text)"
   ]
  },
  {
   "cell_type": "markdown",
   "metadata": {},
   "source": [
    "### Writing the outcome to file\n",
    "\n",
    "To write the MeCab outcomes directly to a file, one may either use `-o` option or `outpath` argument.  Note that this does not work with `do_mecab_iter`, since it is designed to write the outcomes to a temporary file.\n"
   ]
  },
  {
   "cell_type": "code",
   "execution_count": 5,
   "metadata": {},
   "outputs": [
    {
     "name": "stdout",
     "output_type": "stream",
     "text": [
      "すもも\t名詞,一般,*,*,*,*,すもも,スモモ,スモモ\n",
      "も\t助詞,係助詞,*,*,*,*,も,モ,モ\n",
      "もも\t名詞,一般,*,*,*,*,もも,モモ,モモ\n",
      "も\t助詞,係助詞,*,*,*,*,も,モ,モ\n",
      "もも\t名詞,一般,*,*,*,*,もも,モモ,モモ\n",
      "の\t助詞,連体化,*,*,*,*,の,ノ,ノ\n",
      "うち\t名詞,非自立,副詞可能,*,*,*,うち,ウチ,ウチ\n",
      "EOS\n",
      "\n",
      "すもも\t名詞,一般,*,*,*,*,すもも,スモモ,スモモ\n",
      "も\t助詞,係助詞,*,*,*,*,も,モ,モ\n",
      "もも\t名詞,一般,*,*,*,*,もも,モモ,モモ\n",
      "も\t助詞,係助詞,*,*,*,*,も,モ,モ\n",
      "もも\t名詞,一般,*,*,*,*,もも,モモ,モモ\n",
      "の\t助詞,連体化,*,*,*,*,の,ノ,ノ\n",
      "うち\t名詞,非自立,副詞可能,*,*,*,うち,ウチ,ウチ\n",
      "EOS\n",
      "\n"
     ]
    },
    {
     "data": {
      "text/plain": [
       "False"
      ]
     },
     "execution_count": 5,
     "metadata": {},
     "output_type": "execute_result"
    }
   ],
   "source": [
    "do_mecab('すもももももももものうち', '-osumomo1.txt')\n",
    "# or,\n",
    "do_mecab('すもももももももものうち', outpath='sumomo2.txt')\n",
    "\n",
    "with open('sumomo1.txt') as f: \n",
    "    print(f.read())\n",
    "with open('sumomo2.txt') as f: \n",
    "    print(f.read())\n",
    "\n",
    "import os\n",
    "# clean up\n",
    "os.remove('sumomo1.txt')\n",
    "os.remove('sumomo2.txt')\n",
    "\n",
    "# this does not create a file\n",
    "do_mecab_iter(['すもももももももものうち'], '-osumomo3.txt')\n",
    "os.path.exists('sumomo3.txt')"
   ]
  },
  {
   "cell_type": "markdown",
   "metadata": {},
   "source": [
    "### Note on Python 2\n",
    "\n",
    "All text inputs are assumed to be unicode.  \n",
    "In Python2, inputs must be `u''` string, not `''`.\n",
    "In python3, `str` type is unicode, so `u''` and `''` are equivalent."
   ]
  },
  {
   "cell_type": "code",
   "execution_count": 6,
   "metadata": {},
   "outputs": [
    {
     "name": "stdout",
     "output_type": "stream",
     "text": [
      "すもも\t名詞,一般,*,*,*,*,すもも,スモモ,スモモ\n",
      "も\t助詞,係助詞,*,*,*,*,も,モ,モ\n",
      "もも\t名詞,一般,*,*,*,*,もも,モモ,モモ\n",
      "も\t助詞,係助詞,*,*,*,*,も,モ,モ\n",
      "もも\t名詞,一般,*,*,*,*,もも,モモ,モモ\n",
      "の\t助詞,連体化,*,*,*,*,の,ノ,ノ\n",
      "うち\t名詞,非自立,副詞可能,*,*,*,うち,ウチ,ウチ\n",
      "EOS\n",
      "\n",
      "すもも\t名詞,一般,*,*,*,*,すもも,スモモ,スモモ\n",
      "も\t助詞,係助詞,*,*,*,*,も,モ,モ\n",
      "もも\t名詞,一般,*,*,*,*,もも,モモ,モモ\n",
      "も\t助詞,係助詞,*,*,*,*,も,モ,モ\n",
      "もも\t名詞,一般,*,*,*,*,もも,モモ,モモ\n",
      "の\t助詞,連体化,*,*,*,*,の,ノ,ノ\n",
      "うち\t名詞,非自立,副詞可能,*,*,*,うち,ウチ,ウチ\n",
      "EOS\n",
      "\n"
     ]
    }
   ],
   "source": [
    "o1 = do_mecab('すもももももももものうち')   # this works only for python 3\n",
    "o2 = do_mecab(u'すもももももももものうち')  # this works both for python 2 and 3\n",
    "print(o1)\n",
    "print(o2)"
   ]
  },
  {
   "cell_type": "markdown",
   "metadata": {},
   "source": [
    "### Note on dictionary encodings\n",
    "\n",
    "The functions takes `mecab_enc` option, which indicates the encoding of the MeCab dictionary being used.  Usually this can be left as the default value `None`, so that the encoding is automatically detected.  Alternatively, one may specify the encoding explicitly."
   ]
  },
  {
   "cell_type": "code",
   "execution_count": 12,
   "metadata": {},
   "outputs": [
    {
     "name": "stdout",
     "output_type": "stream",
     "text": [
      "日本\t名詞,固有名詞,地域,国,*,*,日本,ニッポン,ニッポン\n",
      "列島\t名詞,一般,*,*,*,*,列島,レットウ,レットー\n",
      "改造\t名詞,サ変接続,*,*,*,*,改造,カイゾウ,カイゾー\n",
      "論\t名詞,接尾,一般,*,*,*,論,ロン,ロン\n",
      "EOS\n",
      "\n",
      "日本\t名詞,固有名詞,地域,国,*,*,日本,ニッポン,ニッポン\n",
      "列島\t名詞,一般,*,*,*,*,列島,レットウ,レットー\n",
      "改造\t名詞,サ変接続,*,*,*,*,改造,カイゾウ,カイゾー\n",
      "論\t名詞,接尾,一般,*,*,*,論,ロン,ロン\n",
      "EOS\n",
      "\n"
     ]
    }
   ],
   "source": [
    "o1 = do_mecab('日本列島改造論', mecab_enc=None)      # default\n",
    "print(o1)\n",
    "\n",
    "o2 = do_mecab('日本列島改造論', mecab_enc='utf-8')   # explicitly specified\n",
    "print(o2)\n",
    "\n",
    "#o3 = do_mecab('日本列島改造論', mecab_enc='cp932')   # wrong encoding, fails\n"
   ]
  },
  {
   "cell_type": "code",
   "execution_count": null,
   "metadata": {
    "collapsed": true
   },
   "outputs": [],
   "source": []
  }
 ],
 "metadata": {
  "kernelspec": {
   "display_name": "Python 3",
   "language": "python",
   "name": "python3"
  },
  "language_info": {
   "codemirror_mode": {
    "name": "ipython",
    "version": 3
   },
   "file_extension": ".py",
   "mimetype": "text/x-python",
   "name": "python",
   "nbconvert_exporter": "python",
   "pygments_lexer": "ipython3",
   "version": "3.6.3"
  }
 },
 "nbformat": 4,
 "nbformat_minor": 2
}
