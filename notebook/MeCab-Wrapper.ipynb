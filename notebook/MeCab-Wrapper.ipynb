{
 "cells": [
  {
   "cell_type": "code",
   "execution_count": 1,
   "metadata": {
    "collapsed": true
   },
   "outputs": [],
   "source": [
    "from subprocess import check_output\n",
    "import re"
   ]
  },
  {
   "cell_type": "code",
   "execution_count": 2,
   "metadata": {},
   "outputs": [
    {
     "data": {
      "text/plain": [
       "'すもも\\t名詞,一般,*,*,*,*,すもも,スモモ,スモモ\\nも\\t助詞,係助詞,*,*,*,*,も,モ,モ\\nもも\\t名詞,一般,*,*,*,*,もも,モモ,モモ\\nも\\t助詞,係助詞,*,*,*,*,も,モ,モ\\nもも\\t名詞,一般,*,*,*,*,もも,モモ,モモ\\nの\\t助詞,連体化,*,*,*,*,の,ノ,ノ\\nうち\\t名詞,非自立,副詞可能,*,*,*,うち,ウチ,ウチ\\nEOS\\n'"
      ]
     },
     "execution_count": 2,
     "metadata": {},
     "output_type": "execute_result"
    }
   ],
   "source": [
    "out = check_output('echo \"すもももももももものうち\" | mecab', shell=True).decode()\n",
    "out"
   ]
  },
  {
   "cell_type": "code",
   "execution_count": 3,
   "metadata": {},
   "outputs": [
    {
     "name": "stdout",
     "output_type": "stream",
     "text": [
      "すもも\t名詞,一般,*,*,*,*,すもも,スモモ,スモモ\n",
      "も\t助詞,係助詞,*,*,*,*,も,モ,モ\n",
      "もも\t名詞,一般,*,*,*,*,もも,モモ,モモ\n",
      "も\t助詞,係助詞,*,*,*,*,も,モ,モ\n",
      "もも\t名詞,一般,*,*,*,*,もも,モモ,モモ\n",
      "の\t助詞,連体化,*,*,*,*,の,ノ,ノ\n",
      "うち\t名詞,非自立,副詞可能,*,*,*,うち,ウチ,ウチ\n",
      "EOS\n"
     ]
    }
   ],
   "source": [
    "regex = re.compile(r\"[^\\n]+\")\n",
    "tokens = regex.finditer(out)\n",
    "for token in tokens: \n",
    "    print(token.group(0))"
   ]
  },
  {
   "cell_type": "code",
   "execution_count": null,
   "metadata": {
    "collapsed": true
   },
   "outputs": [],
   "source": [
    "\n"
   ]
  },
  {
   "cell_type": "code",
   "execution_count": 45,
   "metadata": {
    "collapsed": true
   },
   "outputs": [],
   "source": [
    "def mecab_test(x):\n",
    "    out = check_output('echo \"%s\" | mecab' % x, shell=True).decode()\n",
    "    tokens = re.finditer(r\"[^\\n]+\", out)\n",
    "    tokens \n"
   ]
  },
  {
   "cell_type": "code",
   "execution_count": 46,
   "metadata": {
    "collapsed": true
   },
   "outputs": [],
   "source": [
    "from janome.tokenizer import Tokenizer\n",
    "t = Tokenizer()\n",
    "\n",
    "def janome_test(x):\n",
    "    tokens = t.tokenize(x)\n",
    "    return tokens\n"
   ]
  },
  {
   "cell_type": "code",
   "execution_count": 47,
   "metadata": {},
   "outputs": [
    {
     "name": "stdout",
     "output_type": "stream",
     "text": [
      "10.1 ms ± 487 µs per loop (mean ± std. dev. of 7 runs, 100 loops each)\n"
     ]
    }
   ],
   "source": [
    "%timeit mecab_test(\"すもももももももものうち\")"
   ]
  },
  {
   "cell_type": "code",
   "execution_count": 31,
   "metadata": {},
   "outputs": [
    {
     "name": "stdout",
     "output_type": "stream",
     "text": [
      "1.02 ms ± 13.6 µs per loop (mean ± std. dev. of 7 runs, 1000 loops each)\n"
     ]
    }
   ],
   "source": [
    "%timeit janome_test(\"すもももももももものうち\")"
   ]
  },
  {
   "cell_type": "code",
   "execution_count": null,
   "metadata": {
    "collapsed": true
   },
   "outputs": [],
   "source": [
    "\n"
   ]
  },
  {
   "cell_type": "code",
   "execution_count": 48,
   "metadata": {
    "collapsed": true
   },
   "outputs": [],
   "source": [
    "x = \"\"\"　２２日投開票の衆院選に臨む希望の党（代表・小池百合子東京都知事）の民進党出身者の一部で、「小池氏離れ」が進んでいる。\n",
    "\n",
    "　小池氏が民進党合流組を受け入れる際、安全保障政策などの一致を求め、選別を進める「排除の論理」を明言したことへの反発が選挙戦でも尾を引いているためだ。\n",
    "\n",
    "　民進党出身で希望から出馬した小川淳也前衆院議員（香川１区）は１５日、高松市内で開かれた集会で、「排除の論理」発言について、「寛容さなくして国民がついてくるはずがない」と批判した。合流組に安全保障関連法の容認などを条件とした政策協定書への署名を迫ったことも「踏み絵に使うのは間違っている」と指摘した。\n",
    "\n",
    "　小川氏は、合流を決めた民進党の前原代表の最側近だ。自らのホームページに「党が変わっても、小川は変わらない」と記し、支援者たちに理解を求めた。\n",
    "\n",
    "　小池氏は公示後、自らの「排除の論理」発言について、「きつい言葉だった。政策の一致ということを申し上げたかった」などと釈明した。しかし、民進党関係者は「『小池人気』はあの発言で失速した。従来の民進党支持層の多くは希望から離れた」と打ち明ける。\n",
    "\n",
    "　こうした情勢からか、党ではなく自分を押し出す選挙戦を進める候補者も目立つ。柚木道義前衆院議員（岡山４区）は選挙区で「安倍９条改憲は危険！」などと主張するビラを配布。１５日のフェイスブックでは「『柚木党で応援しとるよ！』を信じて闘い抜く」と記した。\"\"\""
   ]
  },
  {
   "cell_type": "code",
   "execution_count": 49,
   "metadata": {},
   "outputs": [
    {
     "name": "stdout",
     "output_type": "stream",
     "text": [
      "12.6 ms ± 226 µs per loop (mean ± std. dev. of 7 runs, 100 loops each)\n",
      "62.7 ms ± 1.66 ms per loop (mean ± std. dev. of 7 runs, 10 loops each)\n"
     ]
    }
   ],
   "source": [
    "%timeit mecab_test(x)\n",
    "%timeit janome_test(x)"
   ]
  },
  {
   "cell_type": "code",
   "execution_count": 50,
   "metadata": {},
   "outputs": [
    {
     "name": "stdout",
     "output_type": "stream",
     "text": [
      "10.6 ms ± 347 µs per loop (mean ± std. dev. of 7 runs, 100 loops each)\n",
      "5.41 ms ± 165 µs per loop (mean ± std. dev. of 7 runs, 100 loops each)\n"
     ]
    }
   ],
   "source": [
    "%timeit mecab_test(x[0:50])\n",
    "%timeit janome_test(x[0:50])"
   ]
  },
  {
   "cell_type": "code",
   "execution_count": 51,
   "metadata": {},
   "outputs": [
    {
     "name": "stdout",
     "output_type": "stream",
     "text": [
      "10.7 ms ± 439 µs per loop (mean ± std. dev. of 7 runs, 100 loops each)\n",
      "10.6 ms ± 570 µs per loop (mean ± std. dev. of 7 runs, 100 loops each)\n"
     ]
    }
   ],
   "source": [
    "%timeit mecab_test(x[0:100])\n",
    "%timeit janome_test(x[0:100])"
   ]
  },
  {
   "cell_type": "code",
   "execution_count": 52,
   "metadata": {},
   "outputs": [
    {
     "name": "stdout",
     "output_type": "stream",
     "text": [
      "10.9 ms ± 326 µs per loop (mean ± std. dev. of 7 runs, 100 loops each)\n",
      "19.9 ms ± 444 µs per loop (mean ± std. dev. of 7 runs, 10 loops each)\n"
     ]
    }
   ],
   "source": [
    "%timeit mecab_test(x[0:200])\n",
    "%timeit janome_test(x[0:200])"
   ]
  },
  {
   "cell_type": "code",
   "execution_count": 53,
   "metadata": {},
   "outputs": [
    {
     "name": "stdout",
     "output_type": "stream",
     "text": [
      "11.3 ms ± 72.1 µs per loop (mean ± std. dev. of 7 runs, 100 loops each)\n",
      "39.6 ms ± 795 µs per loop (mean ± std. dev. of 7 runs, 10 loops each)\n"
     ]
    }
   ],
   "source": [
    "%timeit mecab_test(x[0:400])\n",
    "%timeit janome_test(x[0:400])"
   ]
  },
  {
   "cell_type": "code",
   "execution_count": null,
   "metadata": {
    "collapsed": true
   },
   "outputs": [],
   "source": []
  },
  {
   "cell_type": "code",
   "execution_count": 55,
   "metadata": {},
   "outputs": [
    {
     "name": "stdout",
     "output_type": "stream",
     "text": [
      "18.4 ms ± 672 µs per loop (mean ± std. dev. of 7 runs, 100 loops each)\n",
      "683 ms ± 39.9 ms per loop (mean ± std. dev. of 7 runs, 1 loop each)\n"
     ]
    }
   ],
   "source": [
    "%timeit mecab_test(x*10)\n",
    "%timeit janome_test(x*10)"
   ]
  },
  {
   "cell_type": "code",
   "execution_count": 57,
   "metadata": {},
   "outputs": [
    {
     "name": "stdout",
     "output_type": "stream",
     "text": [
      "74.7 ms ± 578 µs per loop (mean ± std. dev. of 7 runs, 10 loops each)\n",
      "11 s ± 320 ms per loop (mean ± std. dev. of 7 runs, 1 loop each)\n"
     ]
    }
   ],
   "source": [
    "%timeit mecab_test(x*100)\n",
    "%timeit janome_test(x*100)"
   ]
  },
  {
   "cell_type": "code",
   "execution_count": null,
   "metadata": {
    "collapsed": true
   },
   "outputs": [],
   "source": []
  },
  {
   "cell_type": "code",
   "execution_count": null,
   "metadata": {
    "collapsed": true
   },
   "outputs": [],
   "source": []
  },
  {
   "cell_type": "code",
   "execution_count": null,
   "metadata": {
    "collapsed": true
   },
   "outputs": [],
   "source": [
    "def tokenize_mecab(x, return_tpye=\"raw\"):\n",
    "    \"\"\"\n",
    "    call `mecab` to tokenize a string x\n",
    "    \n",
    "    :param x:           a string\n",
    "    :param retrun_type: either \"raw\" or \"generator\" \n",
    "    \n",
    "    :returns:  if `return_type` = \"raw\", then result of mecab is returned as-is\n",
    "               if \"generator\"\n",
    "    \n",
    "    \"\"\""
   ]
  },
  {
   "cell_type": "code",
   "execution_count": 245,
   "metadata": {
    "collapsed": true
   },
   "outputs": [],
   "source": [
    "import subprocess\n",
    "\n",
    "def domecab(x, outpath, *args):\n",
    "    \"\"\"\n",
    "    call mecab\n",
    "    \n",
    "    :param x:        a string\n",
    "    :param outpath:  None or a valid file path\n",
    "    :param *args:    options of mecab; see `man mecab`\n",
    "    \n",
    "    :returns:        if not successful, error message is returned;\n",
    "                     if successful and outpath is not given, then\n",
    "                     mecab outcome is returned as bytes;\n",
    "                     if successful and outpath is givem then\n",
    "                     the results are written to the file and \n",
    "                     an empty byte is returned\n",
    "    \"\"\"\n",
    "\n",
    "    assert isinstance(x, str), \"x must be str\"\n",
    "    assert outpath is None or isinstance(outpath, str)\n",
    "    # conduct mecab if outfile is not None, \n",
    "    # then write it to the file;\n",
    "    # otherwise do with no option\n",
    "    \n",
    "    command = [\"mecab\", *args]\n",
    "    if outpath is not None:\n",
    "        command += [\"-o\", outpath]\n",
    "    \n",
    "    p1 = subprocess.Popen([\"echo\", x],\n",
    "                          stdout=subprocess.PIPE)\n",
    "    p2 = subprocess.Popen(command,\n",
    "                          stdin=p1.stdout,\n",
    "                          stdout=subprocess.PIPE)\n",
    "    p1.stdout.close()\n",
    "    \n",
    "    out, err = p2.communicate()\n",
    "    \n",
    "    return out"
   ]
  },
  {
   "cell_type": "code",
   "execution_count": 246,
   "metadata": {},
   "outputs": [
    {
     "name": "stdout",
     "output_type": "stream",
     "text": [
      "すもも\t名詞,一般,*,*,*,*,すもも,スモモ,スモモ\n",
      "も\t助詞,係助詞,*,*,*,*,も,モ,モ\n",
      "もも\t名詞,一般,*,*,*,*,もも,モモ,モモ\n",
      "も\t助詞,係助詞,*,*,*,*,も,モ,モ\n",
      "もも\t名詞,一般,*,*,*,*,もも,モモ,モモ\n",
      "の\t助詞,連体化,*,*,*,*,の,ノ,ノ\n",
      "うち\t名詞,非自立,副詞可能,*,*,*,うち,ウチ,ウチ\n",
      "EOS\n",
      "\n"
     ]
    }
   ],
   "source": [
    "o = domecab('すもももももももものうち', None)\n",
    "print(o.decode())"
   ]
  },
  {
   "cell_type": "code",
   "execution_count": 247,
   "metadata": {},
   "outputs": [
    {
     "name": "stdout",
     "output_type": "stream",
     "text": [
      "b''\n"
     ]
    }
   ],
   "source": [
    "o = domecab('すもももももももものうち', 'sumomo.txt')\n",
    "print(o)"
   ]
  },
  {
   "cell_type": "code",
   "execution_count": 248,
   "metadata": {},
   "outputs": [
    {
     "name": "stdout",
     "output_type": "stream",
     "text": [
      "b'no such file or directory: hoge/sumomo.txt\\n'\n"
     ]
    }
   ],
   "source": [
    "o = domecab('すもももももももものうち', 'hoge/sumomo.txt')\n",
    "print(o)"
   ]
  },
  {
   "cell_type": "code",
   "execution_count": 252,
   "metadata": {},
   "outputs": [
    {
     "name": "stdout",
     "output_type": "stream",
     "text": [
      "すもも\tも\tもも\tも\tもも\tの\tうち\tEOS\n",
      "\n"
     ]
    }
   ],
   "source": [
    "o = domecab('すもももももももものうち', None, \"-F\", \"%m\\t\")\n",
    "print(o.decode())"
   ]
  },
  {
   "cell_type": "code",
   "execution_count": 253,
   "metadata": {},
   "outputs": [
    {
     "name": "stdout",
     "output_type": "stream",
     "text": [
      "すもも も もも も もも の うち \n",
      "\n"
     ]
    }
   ],
   "source": [
    "o = domecab('すもももももももものうち', None, \"-Owakati\")\n",
    "print(o.decode())"
   ]
  },
  {
   "cell_type": "code",
   "execution_count": null,
   "metadata": {
    "collapsed": true
   },
   "outputs": [],
   "source": [
    "import re"
   ]
  },
  {
   "cell_type": "code",
   "execution_count": 255,
   "metadata": {
    "collapsed": true
   },
   "outputs": [],
   "source": [
    "regex = re.compile(\"[^\\n]+\")\n",
    "match_type = type(re.match(\"a\", \"a\"))\n",
    "\n",
    "def get_tokens(x):\n",
    "    \"\"\"\n",
    "    returns token generator\n",
    "    \"\"\"\n",
    "    \n",
    "    if isinstance(x, str): \n",
    "        lines = regex.finditer(x)\n",
    "    else:\n",
    "        lines = x\n",
    "    \n",
    "    for line in lines:\n",
    "        if isinstance(line, match_type):\n",
    "            yield Token(line.group(0).strip())\n",
    "        else:\n",
    "            yield Token(line.strip())"
   ]
  },
  {
   "cell_type": "code",
   "execution_count": 256,
   "metadata": {},
   "outputs": [
    {
     "name": "stdout",
     "output_type": "stream",
     "text": [
      "すもも\t名詞,一般,*,*,*,*,すもも,スモモ,スモモ\n",
      "も\t助詞,係助詞,*,*,*,*,も,モ,モ\n",
      "もも\t名詞,一般,*,*,*,*,もも,モモ,モモ\n",
      "も\t助詞,係助詞,*,*,*,*,も,モ,モ\n",
      "もも\t名詞,一般,*,*,*,*,もも,モモ,モモ\n",
      "の\t助詞,連体化,*,*,*,*,の,ノ,ノ\n",
      "うち\t名詞,非自立,副詞可能,*,*,*,うち,ウチ,ウチ\n",
      "EOS\n",
      "\n"
     ]
    }
   ],
   "source": [
    "o = domecab('すもももももももものうち', None)\n",
    "print(o.decode())"
   ]
  },
  {
   "cell_type": "code",
   "execution_count": 267,
   "metadata": {},
   "outputs": [
    {
     "name": "stdout",
     "output_type": "stream",
     "text": [
      "すもも\t名詞,一般,*,*,*,すもも,スモモ,スモモ\n",
      "も\t助詞,係助詞,*,*,*,も,モ,モ\n",
      "もも\t名詞,一般,*,*,*,もも,モモ,モモ\n",
      "も\t助詞,係助詞,*,*,*,も,モ,モ\n",
      "もも\t名詞,一般,*,*,*,もも,モモ,モモ\n",
      "の\t助詞,連体化,*,*,*,の,ノ,ノ\n",
      "うち\t名詞,非自立,副詞可能,*,*,うち,ウチ,ウチ\n",
      "EOS\t*,*,*,*,*,*,*,*\n"
     ]
    }
   ],
   "source": [
    "for token in get_tokens(o.decode()): print(token)"
   ]
  },
  {
   "cell_type": "code",
   "execution_count": 268,
   "metadata": {},
   "outputs": [
    {
     "name": "stdout",
     "output_type": "stream",
     "text": [
      "すもも\t名詞,一般,*,*,*,すもも,スモモ,スモモ\n",
      "も\t助詞,係助詞,*,*,*,も,モ,モ\n",
      "もも\t名詞,一般,*,*,*,もも,モモ,モモ\n",
      "も\t助詞,係助詞,*,*,*,も,モ,モ\n",
      "もも\t名詞,一般,*,*,*,もも,モモ,モモ\n",
      "の\t助詞,連体化,*,*,*,の,ノ,ノ\n",
      "うち\t名詞,非自立,副詞可能,*,*,うち,ウチ,ウチ\n",
      "EOS\t*,*,*,*,*,*,*,*\n"
     ]
    }
   ],
   "source": [
    "with open(\"sumomo.txt\", \"rt\") as f: \n",
    "    for token in get_tokens(f): print(token)"
   ]
  },
  {
   "cell_type": "code",
   "execution_count": 265,
   "metadata": {
    "collapsed": true
   },
   "outputs": [],
   "source": [
    "class Token:\n",
    "    \"\"\"\n",
    "    Token type\n",
    "    \"\"\"\n",
    "    \n",
    "    def __init__(self, line):\n",
    "        # 表層形\\t品詞,品詞細分類1,品詞細分類2,品詞細分類3,活用型,活用形,原形,読み,発音\n",
    "        self.surface     = None\n",
    "        self.pos         = None\n",
    "        self.pos_detail1 = None\n",
    "        self.pos_detail2 = None\n",
    "        self.pos_detail3 = None\n",
    "        self.infl_type   = None\n",
    "        self.infl_form   = None\n",
    "        self.base_form   = None\n",
    "        self.reading     = None\n",
    "        self.phoenetic   = None\n",
    "        \n",
    "        if line == \"EOS\": \n",
    "            self.surface = \"EOS\"\n",
    "            return\n",
    "        \n",
    "        surface, info = line.split(\"\\t\")\n",
    "        info = info.split(\",\")\n",
    "        \n",
    "        self.surface     = surface\n",
    "        self.pos         = info[0] if len(info) > 0 else None\n",
    "        self.pos_detail1 = info[1] if len(info) > 1 else None\n",
    "        self.pos_detail2 = info[2] if len(info) > 2 else None\n",
    "        self.pos_detail3 = info[3] if len(info) > 3 else None\n",
    "        self.infl_type   = info[4] if len(info) > 4 else None\n",
    "        self.infl_form   = info[5] if len(info) > 5 else None\n",
    "        self.base_form   = info[6] if len(info) > 6 else None\n",
    "        self.reading     = info[7] if len(info) > 7 else None\n",
    "        self.phoenetic   = info[8] if len(info) > 8 else None\n",
    "    \n",
    "    def __str__(self):\n",
    "        tmp = [\n",
    "            self.surface, \n",
    "            self.pos,\n",
    "            self.pos_detail1,\n",
    "            self.pos_detail2,\n",
    "            self.infl_type,\n",
    "            self.infl_form,\n",
    "            self.base_form,\n",
    "            self.reading,\n",
    "            self.phoenetic\n",
    "        ]\n",
    "        tmp = tuple('*' if a is None else a for a in tmp)\n",
    "        out = '%s\\t%s,%s,%s,%s,%s,%s,%s,%s' % tmp\n",
    "        return out\n",
    "        \n"
   ]
  },
  {
   "cell_type": "code",
   "execution_count": 236,
   "metadata": {},
   "outputs": [
    {
     "name": "stdout",
     "output_type": "stream",
     "text": [
      "すもも\t名詞,一般,*,*,*,すもも,スモモ,スモモ\n"
     ]
    }
   ],
   "source": [
    "print(Token(o.decode().split(\"\\n\")[0]))"
   ]
  },
  {
   "cell_type": "code",
   "execution_count": 226,
   "metadata": {},
   "outputs": [
    {
     "data": {
      "text/plain": [
       "'SYS_DICT'"
      ]
     },
     "execution_count": 226,
     "metadata": {},
     "output_type": "execute_result"
    }
   ],
   "source": []
  },
  {
   "cell_type": "code",
   "execution_count": 239,
   "metadata": {},
   "outputs": [
    {
     "data": {
      "text/plain": [
       "0"
      ]
     },
     "execution_count": 239,
     "metadata": {},
     "output_type": "execute_result"
    }
   ],
   "source": []
  },
  {
   "cell_type": "code",
   "execution_count": 13,
   "metadata": {},
   "outputs": [
    {
     "name": "stdout",
     "output_type": "stream",
     "text": [
      "hoge.txt\n"
     ]
    },
    {
     "data": {
      "text/plain": [
       "'すもも\\t名詞,一般,*,*,*,*,すもも,スモモ,スモモ\\nも\\t助詞,係助詞,*,*,*,*,も,モ,モ\\nもも\\t名詞,一般,*,*,*,*,もも,モモ,モモ\\nも\\t助詞,係助詞,*,*,*,*,も,モ,モ\\nもも\\t名詞,一般,*,*,*,*,もも,モモ,モモ\\nの\\t助詞,連体化,*,*,*,*,の,ノ,ノ\\nうち\\t名詞,非自立,副詞可能,*,*,*,うち,ウチ,ウチ\\nEOS\\nすもも\\t名詞,一般,*,*,*,*,すもも,スモモ,スモモ\\nも\\t助詞,係助詞,*,*,*,*,も,モ,モ\\nもも\\t名詞,一般,*,*,*,*,もも,モモ,モモ\\nも\\t助詞,係助詞,*,*,*,*,も,モ,モ\\nもも\\t名詞,一般,*,*,*,*,もも,モモ,モモ\\nの\\t助詞,連体化,*,*,*,*,の,ノ,ノ\\nうち\\t名詞,非自立,副詞可能,*,*,*,うち,ウチ,ウチ\\nEOS\\n'"
      ]
     },
     "execution_count": 13,
     "metadata": {},
     "output_type": "execute_result"
    }
   ],
   "source": [
    "from tempfile import NamedTemporaryFile\n",
    "import os\n",
    "import subprocess\n",
    "\n",
    "f = open(\"hoge.txt\", \"wt\")\n",
    "f.write(\"すもももももももものうち\")\n",
    "f.close()\n",
    "print(f.name)\n",
    "#subprocess.check_output(\"mecab \" + f.name, shell=True).decode()\n",
    "p = subprocess.Popen([\"mecab\", f.name], stdout=subprocess.PIPE)\n",
    "p.communicate()[0].decode()\n",
    "#f.close()"
   ]
  },
  {
   "cell_type": "code",
   "execution_count": 17,
   "metadata": {},
   "outputs": [
    {
     "name": "stdout",
     "output_type": "stream",
     "text": [
      "\n"
     ]
    }
   ],
   "source": [
    "f = NamedTemporaryFile(\"w+t\")\n",
    "f.write(\"すもももももももものうち\")\n",
    "p = subprocess.Popen([\"mecab\", f.name], stdout=subprocess.PIPE)\n",
    "print(p.communicate()[0].decode())\n",
    "f.close()"
   ]
  },
  {
   "cell_type": "code",
   "execution_count": 20,
   "metadata": {},
   "outputs": [
    {
     "name": "stdout",
     "output_type": "stream",
     "text": [
      "すもも\t名詞,一般,*,*,*,*,すもも,スモモ,スモモ\n",
      "も\t助詞,係助詞,*,*,*,*,も,モ,モ\n",
      "もも\t名詞,一般,*,*,*,*,もも,モモ,モモ\n",
      "も\t助詞,係助詞,*,*,*,*,も,モ,モ\n",
      "もも\t名詞,一般,*,*,*,*,もも,モモ,モモ\n",
      "の\t助詞,連体化,*,*,*,*,の,ノ,ノ\n",
      "うち\t名詞,非自立,副詞可能,*,*,*,うち,ウチ,ウチ\n",
      "EOS\n",
      "すもも\t名詞,一般,*,*,*,*,すもも,スモモ,スモモ\n",
      "も\t助詞,係助詞,*,*,*,*,も,モ,モ\n",
      "もも\t名詞,一般,*,*,*,*,もも,モモ,モモ\n",
      "も\t助詞,係助詞,*,*,*,*,も,モ,モ\n",
      "もも\t名詞,一般,*,*,*,*,もも,モモ,モモ\n",
      "の\t助詞,連体化,*,*,*,*,の,ノ,ノ\n",
      "うち\t名詞,非自立,副詞可能,*,*,*,うち,ウチ,ウチ\n",
      "EOS\n",
      "\n"
     ]
    }
   ],
   "source": [
    "from tempfile import mkstemp\n",
    "_, fname = mkstemp()\n",
    "\n",
    "with open(fname, \"wt\") as f:\n",
    "    f.write(\"すもももももももものうち\")\n",
    "\n",
    "p = subprocess.Popen([\"mecab\", fname], stdout=subprocess.PIPE)\n",
    "print(p.communicate()[0].decode())\n",
    "\n",
    "os.remove(fname)"
   ]
  },
  {
   "cell_type": "code",
   "execution_count": 24,
   "metadata": {},
   "outputs": [],
   "source": [
    "# -*- coding: utf-8 -*-\n",
    "\n",
    "import subprocess\n",
    "import os\n",
    "from tempfile import mkstemp\n",
    "\n",
    "def do_mecab(x, outpath, *args):\n",
    "    \"\"\"\n",
    "    call mecab\n",
    "    \n",
    "    :param x:        a string\n",
    "    :param outpath:  None or a valid file path\n",
    "    :param *args:    options of mecab; see `man mecab`\n",
    "    \n",
    "    :returns:        if not successful, error message is returned;\n",
    "                     if successful and outpath is not given, then\n",
    "                     mecab outcome is returned as bytes;\n",
    "                     if successful and outpath is givem then\n",
    "                     the results are written to the file and \n",
    "                     an empty byte is returned\n",
    "    \"\"\"\n",
    "\n",
    "    assert isinstance(x, str), \"x must be str\"\n",
    "    assert outpath is None or isinstance(outpath, str)\n",
    "    \n",
    "    # write x to a temp file, which is used as an input to mecab\n",
    "    _, infile = mkstemp()\n",
    "    with open(infile, \"wt\") as f:\n",
    "        f.write(x)\n",
    "\n",
    "    # conduct mecab if outfile is not None, \n",
    "    # then write it to the file;\n",
    "    # otherwise do with no option\n",
    "    command = [\"mecab\", infile, *args]\n",
    "    if outpath is not None:\n",
    "        command += [\"-o\", outpath]\n",
    "    p = subprocess.Popen(command, stdout=subprocess.PIPE)\n",
    "    #p2 = subprocess.Popen(command,\n",
    "    #                      stdin=p1.stdout,\n",
    "    #                      stdout=subprocess.PIPE)\n",
    "    #p1.stdout.close()\n",
    "    \n",
    "    out, err = p.communicate()\n",
    "    \n",
    "    os.remove(infile)\n",
    "    return out\n"
   ]
  },
  {
   "cell_type": "code",
   "execution_count": 27,
   "metadata": {},
   "outputs": [
    {
     "name": "stdout",
     "output_type": "stream",
     "text": [
      "すもも\t名詞,一般,*,*,*,*,すもも,スモモ,スモモ\n",
      "も\t助詞,係助詞,*,*,*,*,も,モ,モ\n",
      "もも\t名詞,一般,*,*,*,*,もも,モモ,モモ\n",
      "も\t助詞,係助詞,*,*,*,*,も,モ,モ\n",
      "もも\t名詞,一般,*,*,*,*,もも,モモ,モモ\n",
      "の\t助詞,連体化,*,*,*,*,の,ノ,ノ\n",
      "うち\t名詞,非自立,副詞可能,*,*,*,うち,ウチ,ウチ\n",
      "EOS\n",
      "すもも\t名詞,一般,*,*,*,*,すもも,スモモ,スモモ\n",
      "も\t助詞,係助詞,*,*,*,*,も,モ,モ\n",
      "もも\t名詞,一般,*,*,*,*,もも,モモ,モモ\n",
      "も\t助詞,係助詞,*,*,*,*,も,モ,モ\n",
      "もも\t名詞,一般,*,*,*,*,もも,モモ,モモ\n",
      "の\t助詞,連体化,*,*,*,*,の,ノ,ノ\n",
      "うち\t名詞,非自立,副詞可能,*,*,*,うち,ウチ,ウチ\n",
      "EOS\n",
      "\n"
     ]
    }
   ],
   "source": [
    "print(do_mecab(\"すもももももももものうち\", None).decode())"
   ]
  },
  {
   "cell_type": "code",
   "execution_count": 28,
   "metadata": {},
   "outputs": [
    {
     "ename": "NameError",
     "evalue": "name 'infile' is not defined",
     "output_type": "error",
     "traceback": [
      "\u001b[0;31m---------------------------------------------------------------------------\u001b[0m",
      "\u001b[0;31mNameError\u001b[0m                                 Traceback (most recent call last)",
      "\u001b[0;32m<ipython-input-28-d095d3a12b1d>\u001b[0m in \u001b[0;36m<module>\u001b[0;34m()\u001b[0m\n\u001b[0;32m----> 1\u001b[0;31m \u001b[0minfile\u001b[0m\u001b[0;34m\u001b[0m\u001b[0m\n\u001b[0m",
      "\u001b[0;31mNameError\u001b[0m: name 'infile' is not defined"
     ]
    }
   ],
   "source": []
  },
  {
   "cell_type": "code",
   "execution_count": null,
   "metadata": {
    "collapsed": true
   },
   "outputs": [],
   "source": []
  }
 ],
 "metadata": {
  "kernelspec": {
   "display_name": "Python 3",
   "language": "python",
   "name": "python3"
  },
  "language_info": {
   "codemirror_mode": {
    "name": "ipython",
    "version": 3
   },
   "file_extension": ".py",
   "mimetype": "text/x-python",
   "name": "python",
   "nbconvert_exporter": "python",
   "pygments_lexer": "ipython3",
   "version": "3.5.4"
  }
 },
 "nbformat": 4,
 "nbformat_minor": 2
}
